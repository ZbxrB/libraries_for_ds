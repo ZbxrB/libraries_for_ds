{
 "cells": [
  {
   "cell_type": "markdown",
   "id": "2ff45229",
   "metadata": {},
   "source": [
    "## 1. Подключение библиотек и функций"
   ]
  },
  {
   "cell_type": "markdown",
   "id": "4660b6bb",
   "metadata": {},
   "source": [
    "3. Корреляция + графики для данных"
   ]
  },
  {
   "cell_type": "code",
   "execution_count": 8,
   "id": "5fdf6689",
   "metadata": {},
   "outputs": [],
   "source": [
    "import numpy as np\n",
    "import pandas as pd\n",
    "\n",
    "#Модуль для разбиения данных\n",
    "from sklearn.model_selection import train_test_split\n",
    "\n",
    "#Метрика для оценки качества предсказания модели\n",
    "from sklearn.metrics import r2_score as r2\n",
    "\n",
    "#Модуль для стандартизации данных\n",
    "from sklearn.preprocessing import StandardScaler\n",
    "\n",
    "#Импорт моделей\n",
    "from sklearn.linear_model import LinearRegression, LogisticRegression\n",
    "from sklearn.ensemble import RandomForestRegressor\n",
    "from sklearn.svm import SVR\n",
    "from sklearn.neighbors import KNeighborsRegressor\n",
    "\n",
    "# Модули для визуализации данных\n",
    "import matplotlib.pyplot as plt\n",
    "import seaborn as sb\n",
    "\n",
    "%matplotlib inline"
   ]
  },
  {
   "cell_type": "markdown",
   "id": "b66c07ba",
   "metadata": {},
   "source": [
    "## 2. Пути к файлам и директориям"
   ]
  },
  {
   "cell_type": "code",
   "execution_count": 2,
   "id": "25f168c6",
   "metadata": {},
   "outputs": [],
   "source": [
    "TRAIN_DATASET_PATH = '../data/Real Estate Price Prediction/train.csv'\n",
    "TEST_DATASET_PATH = '../data/Real Estate Price Prediction/test.csv'\n",
    "PREDICTION_PATH = '../data/Real Estate Price Prediction/prediction.csv'"
   ]
  },
  {
   "cell_type": "markdown",
   "id": "77690b9b",
   "metadata": {},
   "source": [
    "## 3. Создание класса для обработки и подготовки данных"
   ]
  },
  {
   "cell_type": "code",
   "execution_count": 230,
   "id": "04081831",
   "metadata": {},
   "outputs": [],
   "source": [
    "class DataPipeLine:\n",
    "    \"\"\"Подготовка исходных данных\"\"\"\n",
    "    \n",
    "    def __init__(self):\n",
    "        self.medians = None\n",
    "        self.rooms_median = None\n",
    "        self.house_year_median = None\n",
    "        self.kitchen_square_median = None\n",
    "        self.life_square_median = None\n",
    "        self.median_square_meter_price_by_district = None\n",
    "\n",
    "        \n",
    "    def get_stat(self, df):\n",
    "        \"\"\"\n",
    "        Извлечение статистических параметров тренировочного набора данных\n",
    "        для их использования при подготовке тренировочного, валидационного и тестового наборов данных\n",
    "        \"\"\"\n",
    "        \n",
    "        # Получаем медианы для признаков, в наблюдениях которых имеются пропуски для их заполнения\n",
    "        self.medians = df[['LifeSquare', 'Healthcare_1']].median()\n",
    "        self.rooms_median = df['Rooms'].median()\n",
    "        self.house_year_median = df['HouseYear'].median()\n",
    "        self.kitchen_square_median = df['KitchenSquare'].median()\n",
    "        self.life_square_median = df['LifeSquare'].median()\n",
    "    \n",
    "    \n",
    "    def correcting_data(self, df):\n",
    "        \"\"\"\n",
    "        Корректировка данных на предмет исключения выбросов, неправдоподобных значений,\n",
    "        заполнения пустых значений, а также добавления (исключения) параметров\n",
    "        \"\"\"\n",
    "        \n",
    "        # Приведение типов данных\n",
    "        df['Id'] = df['Id'].astype(str)\n",
    "        df['DistrictId'] = df['DistrictId'].astype(str)\n",
    "        \n",
    "        # Заполнение пропусков\n",
    "        df[['LifeSquare', 'Healthcare_1']] = df[['LifeSquare', 'Healthcare_1']].fillna(self.medians)\n",
    "        \n",
    "        # Корректировка выбросов и неправдоподобных значений\n",
    "        \n",
    "        ## корректировка выбросов в данных о количестве комнат\n",
    "        df.loc[df['Rooms'].isin([0, 10, 19]), 'Rooms'] = self.rooms_median\n",
    "        ## корректировка выбросов в данных об этажности домов\n",
    "        df.loc[df['HouseFloor'] == 0, 'HouseFloor'] = df.loc[df['HouseFloor'] == 0, 'Floor']\n",
    "        ## корректировка значений годов, превышающих текущий\n",
    "        df.loc[df['HouseYear'] > 2022, 'HouseYear'] = self.house_year_median \n",
    "        \n",
    "        ## корректировка площади кухни, выпадающей за диапазон [6, 40], при этом нулевые площади допускаются,\n",
    "        ## так как кухня может быть объединина с жилой (например квартиры-студии)\n",
    "        df.loc[(df['KitchenSquare'] < 6) & (df['KitchenSquare'] != 0), 'KitchenSquare'] = 6.0\n",
    "        df.loc[df['KitchenSquare'] > 40, 'KitchenSquare'] = self.kitchen_square_median\n",
    "        \n",
    "        ## коррекрировка жилой площади, меньшей 10\n",
    "        df.loc[df['LifeSquare'] < 10, 'LifeSquare'] = 10.0\n",
    "        df.loc[df['LifeSquare'] > df['LifeSquare'].quantile(.99), 'LifeSquare'] = self.life_square_median\n",
    "        \n",
    "        ## корректировка общей площади, когда она меньше чем сумма площади кухни и жилых помещений\n",
    "        df.loc[df['Square'] < df['LifeSquare'] + df['KitchenSquare'], 'Square'] =\\\n",
    "            (df.loc[df['Square'] < df['LifeSquare'] + df['KitchenSquare'], 'LifeSquare'] +\\\n",
    "                df.loc[df['Square'] < df['LifeSquare'] + df['KitchenSquare'], 'KitchenSquare'])\n",
    "        \n",
    "        # Преобразование категориальных признаков в числовые\n",
    "        df['Ecology_2_bin'] = df['Ecology_2'].replace({'A':0, 'B': 1})\n",
    "        df['Ecology_3_bin'] = df['Ecology_2'].replace({'A':0, 'B': 1})\n",
    "        df['Shops_2_bin'] = df['Shops_2'].replace({'A':0, 'B': 1})\n",
    "        \n",
    "        # Добавление нового признака - число домов в районе, отнесенное к общему числу домов (распределение домов по району)\n",
    "        quantity = (df['DistrictId'].value_counts())\\\n",
    "            .reset_index().rename(columns={'index':'DistrictId', 'DistrictId': 'QuantityHousesInTheDistrics'})\n",
    "        \n",
    "        df = df.merge(quantity, on='DistrictId', how='left')\n",
    "        \n",
    "        # Добавление нового признака - средняя цена квадратного метра по району\n",
    "        if self.median_square_meter_price_by_district is None:\n",
    "            \n",
    "            df['Square_meter_price'] = df['Price'] / df['Square']\n",
    "            \n",
    "            self.median_square_meter_price_by_district = df.groupby(['DistrictId'], as_index=False)\\\n",
    "                .agg({'Square_meter_price':'mean'})\\\n",
    "                .rename(columns={'Square_meter_price':'MedianSquareMeterPriceByDistrict'})\n",
    "            \n",
    "            df = df.drop(columns='Square_meter_price')\n",
    "            \n",
    "            df = df.merge(self.median_square_meter_price_by_district, on='DistrictId', how='left')\n",
    "            \n",
    "        else:\n",
    "            df = df.merge(self.median_square_meter_price_by_district, on='DistrictId', how='left')\n",
    "        \n",
    "        return df"
   ]
  },
  {
   "cell_type": "markdown",
   "id": "feb8fd31",
   "metadata": {},
   "source": [
    "## 4. Загрузка данных"
   ]
  },
  {
   "cell_type": "code",
   "execution_count": 244,
   "id": "31ef3702",
   "metadata": {},
   "outputs": [],
   "source": [
    "train_df = pd.read_csv(TRAIN_DATASET_PATH)"
   ]
  },
  {
   "cell_type": "markdown",
   "id": "d7f398cd",
   "metadata": {},
   "source": [
    "## 5. Обзор данных"
   ]
  },
  {
   "cell_type": "code",
   "execution_count": 394,
   "id": "61c694db",
   "metadata": {},
   "outputs": [
    {
     "data": {
      "text/html": [
       "<div>\n",
       "<style scoped>\n",
       "    .dataframe tbody tr th:only-of-type {\n",
       "        vertical-align: middle;\n",
       "    }\n",
       "\n",
       "    .dataframe tbody tr th {\n",
       "        vertical-align: top;\n",
       "    }\n",
       "\n",
       "    .dataframe thead th {\n",
       "        text-align: right;\n",
       "    }\n",
       "</style>\n",
       "<table border=\"1\" class=\"dataframe\">\n",
       "  <thead>\n",
       "    <tr style=\"text-align: right;\">\n",
       "      <th></th>\n",
       "      <th>Id</th>\n",
       "      <th>DistrictId</th>\n",
       "      <th>Rooms</th>\n",
       "      <th>Square</th>\n",
       "      <th>LifeSquare</th>\n",
       "      <th>KitchenSquare</th>\n",
       "      <th>Floor</th>\n",
       "      <th>HouseFloor</th>\n",
       "      <th>HouseYear</th>\n",
       "      <th>Ecology_1</th>\n",
       "      <th>Ecology_2</th>\n",
       "      <th>Ecology_3</th>\n",
       "      <th>Social_1</th>\n",
       "      <th>Social_2</th>\n",
       "      <th>Social_3</th>\n",
       "      <th>Healthcare_1</th>\n",
       "      <th>Helthcare_2</th>\n",
       "      <th>Shops_1</th>\n",
       "      <th>Shops_2</th>\n",
       "      <th>Price</th>\n",
       "    </tr>\n",
       "  </thead>\n",
       "  <tbody>\n",
       "    <tr>\n",
       "      <th>0</th>\n",
       "      <td>11809</td>\n",
       "      <td>27</td>\n",
       "      <td>3.0</td>\n",
       "      <td>115.027311</td>\n",
       "      <td>NaN</td>\n",
       "      <td>10.0</td>\n",
       "      <td>4</td>\n",
       "      <td>10.0</td>\n",
       "      <td>2014</td>\n",
       "      <td>0.075424</td>\n",
       "      <td>B</td>\n",
       "      <td>B</td>\n",
       "      <td>11</td>\n",
       "      <td>3097</td>\n",
       "      <td>0</td>\n",
       "      <td>NaN</td>\n",
       "      <td>0</td>\n",
       "      <td>0</td>\n",
       "      <td>B</td>\n",
       "      <td>305018.871089</td>\n",
       "    </tr>\n",
       "    <tr>\n",
       "      <th>1</th>\n",
       "      <td>3013</td>\n",
       "      <td>22</td>\n",
       "      <td>1.0</td>\n",
       "      <td>39.832524</td>\n",
       "      <td>23.169223</td>\n",
       "      <td>8.0</td>\n",
       "      <td>7</td>\n",
       "      <td>8.0</td>\n",
       "      <td>1966</td>\n",
       "      <td>0.118537</td>\n",
       "      <td>B</td>\n",
       "      <td>B</td>\n",
       "      <td>30</td>\n",
       "      <td>6207</td>\n",
       "      <td>1</td>\n",
       "      <td>1183.0</td>\n",
       "      <td>1</td>\n",
       "      <td>0</td>\n",
       "      <td>B</td>\n",
       "      <td>177734.553407</td>\n",
       "    </tr>\n",
       "    <tr>\n",
       "      <th>2</th>\n",
       "      <td>8215</td>\n",
       "      <td>1</td>\n",
       "      <td>3.0</td>\n",
       "      <td>78.342215</td>\n",
       "      <td>47.671972</td>\n",
       "      <td>10.0</td>\n",
       "      <td>2</td>\n",
       "      <td>17.0</td>\n",
       "      <td>1988</td>\n",
       "      <td>0.025609</td>\n",
       "      <td>B</td>\n",
       "      <td>B</td>\n",
       "      <td>33</td>\n",
       "      <td>5261</td>\n",
       "      <td>0</td>\n",
       "      <td>240.0</td>\n",
       "      <td>3</td>\n",
       "      <td>1</td>\n",
       "      <td>B</td>\n",
       "      <td>282078.720850</td>\n",
       "    </tr>\n",
       "    <tr>\n",
       "      <th>3</th>\n",
       "      <td>2352</td>\n",
       "      <td>1</td>\n",
       "      <td>1.0</td>\n",
       "      <td>40.409907</td>\n",
       "      <td>NaN</td>\n",
       "      <td>1.0</td>\n",
       "      <td>10</td>\n",
       "      <td>22.0</td>\n",
       "      <td>1977</td>\n",
       "      <td>0.007122</td>\n",
       "      <td>B</td>\n",
       "      <td>B</td>\n",
       "      <td>1</td>\n",
       "      <td>264</td>\n",
       "      <td>0</td>\n",
       "      <td>NaN</td>\n",
       "      <td>0</td>\n",
       "      <td>1</td>\n",
       "      <td>B</td>\n",
       "      <td>168106.007630</td>\n",
       "    </tr>\n",
       "    <tr>\n",
       "      <th>4</th>\n",
       "      <td>13866</td>\n",
       "      <td>94</td>\n",
       "      <td>2.0</td>\n",
       "      <td>64.285067</td>\n",
       "      <td>38.562517</td>\n",
       "      <td>9.0</td>\n",
       "      <td>16</td>\n",
       "      <td>16.0</td>\n",
       "      <td>1972</td>\n",
       "      <td>0.282798</td>\n",
       "      <td>B</td>\n",
       "      <td>B</td>\n",
       "      <td>33</td>\n",
       "      <td>8667</td>\n",
       "      <td>2</td>\n",
       "      <td>NaN</td>\n",
       "      <td>0</td>\n",
       "      <td>6</td>\n",
       "      <td>B</td>\n",
       "      <td>343995.102962</td>\n",
       "    </tr>\n",
       "  </tbody>\n",
       "</table>\n",
       "</div>"
      ],
      "text/plain": [
       "      Id  DistrictId  Rooms      Square  LifeSquare  KitchenSquare  Floor  \\\n",
       "0  11809          27    3.0  115.027311         NaN           10.0      4   \n",
       "1   3013          22    1.0   39.832524   23.169223            8.0      7   \n",
       "2   8215           1    3.0   78.342215   47.671972           10.0      2   \n",
       "3   2352           1    1.0   40.409907         NaN            1.0     10   \n",
       "4  13866          94    2.0   64.285067   38.562517            9.0     16   \n",
       "\n",
       "   HouseFloor  HouseYear  Ecology_1 Ecology_2 Ecology_3  Social_1  Social_2  \\\n",
       "0        10.0       2014   0.075424         B         B        11      3097   \n",
       "1         8.0       1966   0.118537         B         B        30      6207   \n",
       "2        17.0       1988   0.025609         B         B        33      5261   \n",
       "3        22.0       1977   0.007122         B         B         1       264   \n",
       "4        16.0       1972   0.282798         B         B        33      8667   \n",
       "\n",
       "   Social_3  Healthcare_1  Helthcare_2  Shops_1 Shops_2          Price  \n",
       "0         0           NaN            0        0       B  305018.871089  \n",
       "1         1        1183.0            1        0       B  177734.553407  \n",
       "2         0         240.0            3        1       B  282078.720850  \n",
       "3         0           NaN            0        1       B  168106.007630  \n",
       "4         2           NaN            0        6       B  343995.102962  "
      ]
     },
     "execution_count": 394,
     "metadata": {},
     "output_type": "execute_result"
    }
   ],
   "source": [
    "train_df.head()"
   ]
  },
  {
   "cell_type": "code",
   "execution_count": 237,
   "id": "e0067a96",
   "metadata": {},
   "outputs": [
    {
     "name": "stdout",
     "output_type": "stream",
     "text": [
      "<class 'pandas.core.frame.DataFrame'>\n",
      "Int64Index: 10000 entries, 0 to 9999\n",
      "Data columns (total 25 columns):\n",
      " #   Column                            Non-Null Count  Dtype  \n",
      "---  ------                            --------------  -----  \n",
      " 0   Id                                10000 non-null  object \n",
      " 1   DistrictId                        10000 non-null  object \n",
      " 2   Rooms                             10000 non-null  float64\n",
      " 3   Square                            10000 non-null  float64\n",
      " 4   LifeSquare                        10000 non-null  float64\n",
      " 5   KitchenSquare                     10000 non-null  float64\n",
      " 6   Floor                             10000 non-null  int64  \n",
      " 7   HouseFloor                        10000 non-null  float64\n",
      " 8   HouseYear                         10000 non-null  int64  \n",
      " 9   Ecology_1                         10000 non-null  float64\n",
      " 10  Ecology_2                         10000 non-null  object \n",
      " 11  Ecology_3                         10000 non-null  object \n",
      " 12  Social_1                          10000 non-null  int64  \n",
      " 13  Social_2                          10000 non-null  int64  \n",
      " 14  Social_3                          10000 non-null  int64  \n",
      " 15  Healthcare_1                      10000 non-null  float64\n",
      " 16  Helthcare_2                       10000 non-null  int64  \n",
      " 17  Shops_1                           10000 non-null  int64  \n",
      " 18  Shops_2                           10000 non-null  object \n",
      " 19  Price                             10000 non-null  float64\n",
      " 20  Ecology_2_bin                     10000 non-null  int64  \n",
      " 21  Ecology_3_bin                     10000 non-null  int64  \n",
      " 22  Shops_2_bin                       10000 non-null  int64  \n",
      " 23  QuantityHousesInTheDistrics       10000 non-null  int64  \n",
      " 24  MedianSquareMeterPriceByDistrict  10000 non-null  float64\n",
      "dtypes: float64(9), int64(11), object(5)\n",
      "memory usage: 2.0+ MB\n"
     ]
    }
   ],
   "source": [
    "train_df.info()"
   ]
  },
  {
   "cell_type": "code",
   "execution_count": 396,
   "id": "30caa1c1",
   "metadata": {},
   "outputs": [
    {
     "data": {
      "text/html": [
       "<div>\n",
       "<style scoped>\n",
       "    .dataframe tbody tr th:only-of-type {\n",
       "        vertical-align: middle;\n",
       "    }\n",
       "\n",
       "    .dataframe tbody tr th {\n",
       "        vertical-align: top;\n",
       "    }\n",
       "\n",
       "    .dataframe thead th {\n",
       "        text-align: right;\n",
       "    }\n",
       "</style>\n",
       "<table border=\"1\" class=\"dataframe\">\n",
       "  <thead>\n",
       "    <tr style=\"text-align: right;\">\n",
       "      <th></th>\n",
       "      <th>Id</th>\n",
       "      <th>DistrictId</th>\n",
       "      <th>Rooms</th>\n",
       "      <th>Square</th>\n",
       "      <th>LifeSquare</th>\n",
       "      <th>KitchenSquare</th>\n",
       "      <th>Floor</th>\n",
       "      <th>HouseFloor</th>\n",
       "      <th>HouseYear</th>\n",
       "      <th>Ecology_1</th>\n",
       "      <th>Social_1</th>\n",
       "      <th>Social_2</th>\n",
       "      <th>Social_3</th>\n",
       "      <th>Healthcare_1</th>\n",
       "      <th>Helthcare_2</th>\n",
       "      <th>Shops_1</th>\n",
       "      <th>Price</th>\n",
       "    </tr>\n",
       "  </thead>\n",
       "  <tbody>\n",
       "    <tr>\n",
       "      <th>count</th>\n",
       "      <td>10000.00000</td>\n",
       "      <td>10000.000000</td>\n",
       "      <td>10000.000000</td>\n",
       "      <td>10000.000000</td>\n",
       "      <td>7887.000000</td>\n",
       "      <td>10000.000000</td>\n",
       "      <td>10000.000000</td>\n",
       "      <td>10000.000000</td>\n",
       "      <td>1.000000e+04</td>\n",
       "      <td>10000.000000</td>\n",
       "      <td>10000.000000</td>\n",
       "      <td>10000.000000</td>\n",
       "      <td>10000.000000</td>\n",
       "      <td>5202.000000</td>\n",
       "      <td>10000.000000</td>\n",
       "      <td>10000.000000</td>\n",
       "      <td>10000.000000</td>\n",
       "    </tr>\n",
       "    <tr>\n",
       "      <th>mean</th>\n",
       "      <td>8383.40770</td>\n",
       "      <td>50.400800</td>\n",
       "      <td>1.890500</td>\n",
       "      <td>56.315775</td>\n",
       "      <td>37.199645</td>\n",
       "      <td>6.273300</td>\n",
       "      <td>8.526700</td>\n",
       "      <td>12.609400</td>\n",
       "      <td>3.990166e+03</td>\n",
       "      <td>0.118858</td>\n",
       "      <td>24.687000</td>\n",
       "      <td>5352.157400</td>\n",
       "      <td>8.039200</td>\n",
       "      <td>1142.904460</td>\n",
       "      <td>1.319500</td>\n",
       "      <td>4.231300</td>\n",
       "      <td>214138.857399</td>\n",
       "    </tr>\n",
       "    <tr>\n",
       "      <th>std</th>\n",
       "      <td>4859.01902</td>\n",
       "      <td>43.587592</td>\n",
       "      <td>0.839512</td>\n",
       "      <td>21.058732</td>\n",
       "      <td>86.241209</td>\n",
       "      <td>28.560917</td>\n",
       "      <td>5.241148</td>\n",
       "      <td>6.775974</td>\n",
       "      <td>2.005003e+05</td>\n",
       "      <td>0.119025</td>\n",
       "      <td>17.532614</td>\n",
       "      <td>4006.799803</td>\n",
       "      <td>23.831875</td>\n",
       "      <td>1021.517264</td>\n",
       "      <td>1.493601</td>\n",
       "      <td>4.806341</td>\n",
       "      <td>92872.293865</td>\n",
       "    </tr>\n",
       "    <tr>\n",
       "      <th>min</th>\n",
       "      <td>0.00000</td>\n",
       "      <td>0.000000</td>\n",
       "      <td>0.000000</td>\n",
       "      <td>1.136859</td>\n",
       "      <td>0.370619</td>\n",
       "      <td>0.000000</td>\n",
       "      <td>1.000000</td>\n",
       "      <td>0.000000</td>\n",
       "      <td>1.910000e+03</td>\n",
       "      <td>0.000000</td>\n",
       "      <td>0.000000</td>\n",
       "      <td>168.000000</td>\n",
       "      <td>0.000000</td>\n",
       "      <td>0.000000</td>\n",
       "      <td>0.000000</td>\n",
       "      <td>0.000000</td>\n",
       "      <td>59174.778028</td>\n",
       "    </tr>\n",
       "    <tr>\n",
       "      <th>25%</th>\n",
       "      <td>4169.50000</td>\n",
       "      <td>20.000000</td>\n",
       "      <td>1.000000</td>\n",
       "      <td>41.774881</td>\n",
       "      <td>22.769832</td>\n",
       "      <td>1.000000</td>\n",
       "      <td>4.000000</td>\n",
       "      <td>9.000000</td>\n",
       "      <td>1.974000e+03</td>\n",
       "      <td>0.017647</td>\n",
       "      <td>6.000000</td>\n",
       "      <td>1564.000000</td>\n",
       "      <td>0.000000</td>\n",
       "      <td>350.000000</td>\n",
       "      <td>0.000000</td>\n",
       "      <td>1.000000</td>\n",
       "      <td>153872.633942</td>\n",
       "    </tr>\n",
       "    <tr>\n",
       "      <th>50%</th>\n",
       "      <td>8394.50000</td>\n",
       "      <td>36.000000</td>\n",
       "      <td>2.000000</td>\n",
       "      <td>52.513310</td>\n",
       "      <td>32.781260</td>\n",
       "      <td>6.000000</td>\n",
       "      <td>7.000000</td>\n",
       "      <td>13.000000</td>\n",
       "      <td>1.977000e+03</td>\n",
       "      <td>0.075424</td>\n",
       "      <td>25.000000</td>\n",
       "      <td>5285.000000</td>\n",
       "      <td>2.000000</td>\n",
       "      <td>900.000000</td>\n",
       "      <td>1.000000</td>\n",
       "      <td>3.000000</td>\n",
       "      <td>192269.644879</td>\n",
       "    </tr>\n",
       "    <tr>\n",
       "      <th>75%</th>\n",
       "      <td>12592.50000</td>\n",
       "      <td>75.000000</td>\n",
       "      <td>2.000000</td>\n",
       "      <td>65.900625</td>\n",
       "      <td>45.128803</td>\n",
       "      <td>9.000000</td>\n",
       "      <td>12.000000</td>\n",
       "      <td>17.000000</td>\n",
       "      <td>2.001000e+03</td>\n",
       "      <td>0.195781</td>\n",
       "      <td>36.000000</td>\n",
       "      <td>7227.000000</td>\n",
       "      <td>5.000000</td>\n",
       "      <td>1548.000000</td>\n",
       "      <td>2.000000</td>\n",
       "      <td>6.000000</td>\n",
       "      <td>249135.462171</td>\n",
       "    </tr>\n",
       "    <tr>\n",
       "      <th>max</th>\n",
       "      <td>16798.00000</td>\n",
       "      <td>209.000000</td>\n",
       "      <td>19.000000</td>\n",
       "      <td>641.065193</td>\n",
       "      <td>7480.592129</td>\n",
       "      <td>2014.000000</td>\n",
       "      <td>42.000000</td>\n",
       "      <td>117.000000</td>\n",
       "      <td>2.005201e+07</td>\n",
       "      <td>0.521867</td>\n",
       "      <td>74.000000</td>\n",
       "      <td>19083.000000</td>\n",
       "      <td>141.000000</td>\n",
       "      <td>4849.000000</td>\n",
       "      <td>6.000000</td>\n",
       "      <td>23.000000</td>\n",
       "      <td>633233.466570</td>\n",
       "    </tr>\n",
       "  </tbody>\n",
       "</table>\n",
       "</div>"
      ],
      "text/plain": [
       "                Id    DistrictId         Rooms        Square   LifeSquare  \\\n",
       "count  10000.00000  10000.000000  10000.000000  10000.000000  7887.000000   \n",
       "mean    8383.40770     50.400800      1.890500     56.315775    37.199645   \n",
       "std     4859.01902     43.587592      0.839512     21.058732    86.241209   \n",
       "min        0.00000      0.000000      0.000000      1.136859     0.370619   \n",
       "25%     4169.50000     20.000000      1.000000     41.774881    22.769832   \n",
       "50%     8394.50000     36.000000      2.000000     52.513310    32.781260   \n",
       "75%    12592.50000     75.000000      2.000000     65.900625    45.128803   \n",
       "max    16798.00000    209.000000     19.000000    641.065193  7480.592129   \n",
       "\n",
       "       KitchenSquare         Floor    HouseFloor     HouseYear     Ecology_1  \\\n",
       "count   10000.000000  10000.000000  10000.000000  1.000000e+04  10000.000000   \n",
       "mean        6.273300      8.526700     12.609400  3.990166e+03      0.118858   \n",
       "std        28.560917      5.241148      6.775974  2.005003e+05      0.119025   \n",
       "min         0.000000      1.000000      0.000000  1.910000e+03      0.000000   \n",
       "25%         1.000000      4.000000      9.000000  1.974000e+03      0.017647   \n",
       "50%         6.000000      7.000000     13.000000  1.977000e+03      0.075424   \n",
       "75%         9.000000     12.000000     17.000000  2.001000e+03      0.195781   \n",
       "max      2014.000000     42.000000    117.000000  2.005201e+07      0.521867   \n",
       "\n",
       "           Social_1      Social_2      Social_3  Healthcare_1   Helthcare_2  \\\n",
       "count  10000.000000  10000.000000  10000.000000   5202.000000  10000.000000   \n",
       "mean      24.687000   5352.157400      8.039200   1142.904460      1.319500   \n",
       "std       17.532614   4006.799803     23.831875   1021.517264      1.493601   \n",
       "min        0.000000    168.000000      0.000000      0.000000      0.000000   \n",
       "25%        6.000000   1564.000000      0.000000    350.000000      0.000000   \n",
       "50%       25.000000   5285.000000      2.000000    900.000000      1.000000   \n",
       "75%       36.000000   7227.000000      5.000000   1548.000000      2.000000   \n",
       "max       74.000000  19083.000000    141.000000   4849.000000      6.000000   \n",
       "\n",
       "            Shops_1          Price  \n",
       "count  10000.000000   10000.000000  \n",
       "mean       4.231300  214138.857399  \n",
       "std        4.806341   92872.293865  \n",
       "min        0.000000   59174.778028  \n",
       "25%        1.000000  153872.633942  \n",
       "50%        3.000000  192269.644879  \n",
       "75%        6.000000  249135.462171  \n",
       "max       23.000000  633233.466570  "
      ]
     },
     "execution_count": 396,
     "metadata": {},
     "output_type": "execute_result"
    }
   ],
   "source": [
    "train_df.describe()"
   ]
  },
  {
   "cell_type": "code",
   "execution_count": 397,
   "id": "734ea41d",
   "metadata": {
    "scrolled": true
   },
   "outputs": [
    {
     "data": {
      "text/plain": [
       "Id                 int64\n",
       "DistrictId         int64\n",
       "Rooms            float64\n",
       "Square           float64\n",
       "LifeSquare       float64\n",
       "KitchenSquare    float64\n",
       "Floor              int64\n",
       "HouseFloor       float64\n",
       "HouseYear          int64\n",
       "Ecology_1        float64\n",
       "Ecology_2         object\n",
       "Ecology_3         object\n",
       "Social_1           int64\n",
       "Social_2           int64\n",
       "Social_3           int64\n",
       "Healthcare_1     float64\n",
       "Helthcare_2        int64\n",
       "Shops_1            int64\n",
       "Shops_2           object\n",
       "Price            float64\n",
       "dtype: object"
      ]
     },
     "execution_count": 397,
     "metadata": {},
     "output_type": "execute_result"
    }
   ],
   "source": [
    "train_df.dtypes"
   ]
  },
  {
   "cell_type": "code",
   "execution_count": 154,
   "id": "fcdd16b8",
   "metadata": {
    "scrolled": true
   },
   "outputs": [
    {
     "data": {
      "image/png": "[encoded data removed]",
      "text/plain": [
       "<Figure size 1080x1080 with 2 Axes>"
      ]
     },
     "metadata": {
      "needs_background": "light"
     },
     "output_type": "display_data"
    }
   ],
   "source": [
    "plt.figure(figsize=(15, 15))\n",
    "\n",
    "sb.set(font_scale=1.4)\n",
    "\n",
    "corr_matrix = train_df.corr()\n",
    "corr_matrix = np.round(corr_matrix, 2)\n",
    "corr_matrix[np.abs(corr_matrix) < .3] = 0\n",
    "\n",
    "sb.heatmap(corr_matrix, annot=True, linewidths=.6, cmap='coolwarm')\n",
    "plt.title('Correlation matrix')\n",
    "plt.show()"
   ]
  },
  {
   "cell_type": "markdown",
   "id": "79e8a373",
   "metadata": {},
   "source": [
    "Исходя из матрицы корреляций, такие признаки как \"Social_1\" и \"Social_2\" сильно коррелируют. Иключение как одного так и другого параметра не оказало значимого влияния на качество предсказания ни одной из моделей."
   ]
  },
  {
   "cell_type": "markdown",
   "id": "05fc4303",
   "metadata": {},
   "source": [
    "## 6. Обработка данных"
   ]
  },
  {
   "cell_type": "code",
   "execution_count": 163,
   "id": "b627fa12",
   "metadata": {},
   "outputs": [],
   "source": [
    "corrected_dataframe = DataPipeLine()\n",
    "corrected_dataframe.get_stat(train_df)\n",
    "\n",
    "train_df = corrected_dataframe.correcting_data(train_df)\n",
    "test_df = corrected_dataframe.correcting_data(test_df)"
   ]
  },
  {
   "cell_type": "code",
   "execution_count": 177,
   "id": "ec608625",
   "metadata": {
    "scrolled": true
   },
   "outputs": [
    {
     "data": {
      "text/html": [
       "<div>\n",
       "<style scoped>\n",
       "    .dataframe tbody tr th:only-of-type {\n",
       "        vertical-align: middle;\n",
       "    }\n",
       "\n",
       "    .dataframe tbody tr th {\n",
       "        vertical-align: top;\n",
       "    }\n",
       "\n",
       "    .dataframe thead th {\n",
       "        text-align: right;\n",
       "    }\n",
       "</style>\n",
       "<table border=\"1\" class=\"dataframe\">\n",
       "  <thead>\n",
       "    <tr style=\"text-align: right;\">\n",
       "      <th></th>\n",
       "      <th>Id</th>\n",
       "      <th>DistrictId</th>\n",
       "      <th>Rooms</th>\n",
       "      <th>Square</th>\n",
       "      <th>LifeSquare</th>\n",
       "      <th>KitchenSquare</th>\n",
       "      <th>Floor</th>\n",
       "      <th>HouseFloor</th>\n",
       "      <th>HouseYear</th>\n",
       "      <th>Ecology_1</th>\n",
       "      <th>...</th>\n",
       "      <th>Healthcare_1</th>\n",
       "      <th>Helthcare_2</th>\n",
       "      <th>Shops_1</th>\n",
       "      <th>Shops_2</th>\n",
       "      <th>Price</th>\n",
       "      <th>Ecology_2_bin</th>\n",
       "      <th>Ecology_3_bin</th>\n",
       "      <th>Shops_2_bin</th>\n",
       "      <th>QuantityHousesInTheDistrics</th>\n",
       "      <th>MedianSquareMeterPriceByDistrict</th>\n",
       "    </tr>\n",
       "  </thead>\n",
       "  <tbody>\n",
       "    <tr>\n",
       "      <th>0</th>\n",
       "      <td>11809</td>\n",
       "      <td>27</td>\n",
       "      <td>3.0</td>\n",
       "      <td>115.027311</td>\n",
       "      <td>32.781260</td>\n",
       "      <td>10.0</td>\n",
       "      <td>4</td>\n",
       "      <td>10.0</td>\n",
       "      <td>2014</td>\n",
       "      <td>0.075424</td>\n",
       "      <td>...</td>\n",
       "      <td>900.0</td>\n",
       "      <td>0</td>\n",
       "      <td>0</td>\n",
       "      <td>B</td>\n",
       "      <td>305018.871089</td>\n",
       "      <td>1</td>\n",
       "      <td>1</td>\n",
       "      <td>1</td>\n",
       "      <td>851</td>\n",
       "      <td>2707.753999</td>\n",
       "    </tr>\n",
       "    <tr>\n",
       "      <th>1</th>\n",
       "      <td>3013</td>\n",
       "      <td>22</td>\n",
       "      <td>1.0</td>\n",
       "      <td>39.832524</td>\n",
       "      <td>23.169223</td>\n",
       "      <td>8.0</td>\n",
       "      <td>7</td>\n",
       "      <td>8.0</td>\n",
       "      <td>1966</td>\n",
       "      <td>0.118537</td>\n",
       "      <td>...</td>\n",
       "      <td>1183.0</td>\n",
       "      <td>1</td>\n",
       "      <td>0</td>\n",
       "      <td>B</td>\n",
       "      <td>177734.553407</td>\n",
       "      <td>1</td>\n",
       "      <td>1</td>\n",
       "      <td>1</td>\n",
       "      <td>78</td>\n",
       "      <td>3728.145740</td>\n",
       "    </tr>\n",
       "    <tr>\n",
       "      <th>2</th>\n",
       "      <td>8215</td>\n",
       "      <td>1</td>\n",
       "      <td>3.0</td>\n",
       "      <td>78.342215</td>\n",
       "      <td>47.671972</td>\n",
       "      <td>10.0</td>\n",
       "      <td>2</td>\n",
       "      <td>17.0</td>\n",
       "      <td>1988</td>\n",
       "      <td>0.025609</td>\n",
       "      <td>...</td>\n",
       "      <td>240.0</td>\n",
       "      <td>3</td>\n",
       "      <td>1</td>\n",
       "      <td>B</td>\n",
       "      <td>282078.720850</td>\n",
       "      <td>1</td>\n",
       "      <td>1</td>\n",
       "      <td>1</td>\n",
       "      <td>652</td>\n",
       "      <td>3157.363817</td>\n",
       "    </tr>\n",
       "    <tr>\n",
       "      <th>3</th>\n",
       "      <td>2352</td>\n",
       "      <td>1</td>\n",
       "      <td>1.0</td>\n",
       "      <td>40.409907</td>\n",
       "      <td>32.781260</td>\n",
       "      <td>6.0</td>\n",
       "      <td>10</td>\n",
       "      <td>22.0</td>\n",
       "      <td>1977</td>\n",
       "      <td>0.007122</td>\n",
       "      <td>...</td>\n",
       "      <td>900.0</td>\n",
       "      <td>0</td>\n",
       "      <td>1</td>\n",
       "      <td>B</td>\n",
       "      <td>168106.007630</td>\n",
       "      <td>1</td>\n",
       "      <td>1</td>\n",
       "      <td>1</td>\n",
       "      <td>652</td>\n",
       "      <td>3157.363817</td>\n",
       "    </tr>\n",
       "    <tr>\n",
       "      <th>4</th>\n",
       "      <td>13866</td>\n",
       "      <td>94</td>\n",
       "      <td>2.0</td>\n",
       "      <td>64.285067</td>\n",
       "      <td>38.562517</td>\n",
       "      <td>9.0</td>\n",
       "      <td>16</td>\n",
       "      <td>16.0</td>\n",
       "      <td>1972</td>\n",
       "      <td>0.282798</td>\n",
       "      <td>...</td>\n",
       "      <td>900.0</td>\n",
       "      <td>0</td>\n",
       "      <td>6</td>\n",
       "      <td>B</td>\n",
       "      <td>343995.102962</td>\n",
       "      <td>1</td>\n",
       "      <td>1</td>\n",
       "      <td>1</td>\n",
       "      <td>89</td>\n",
       "      <td>4171.321353</td>\n",
       "    </tr>\n",
       "  </tbody>\n",
       "</table>\n",
       "<p>5 rows × 25 columns</p>\n",
       "</div>"
      ],
      "text/plain": [
       "      Id DistrictId  Rooms      Square  LifeSquare  KitchenSquare  Floor  \\\n",
       "0  11809         27    3.0  115.027311   32.781260           10.0      4   \n",
       "1   3013         22    1.0   39.832524   23.169223            8.0      7   \n",
       "2   8215          1    3.0   78.342215   47.671972           10.0      2   \n",
       "3   2352          1    1.0   40.409907   32.781260            6.0     10   \n",
       "4  13866         94    2.0   64.285067   38.562517            9.0     16   \n",
       "\n",
       "   HouseFloor  HouseYear  Ecology_1  ... Healthcare_1 Helthcare_2  Shops_1  \\\n",
       "0        10.0       2014   0.075424  ...        900.0           0        0   \n",
       "1         8.0       1966   0.118537  ...       1183.0           1        0   \n",
       "2        17.0       1988   0.025609  ...        240.0           3        1   \n",
       "3        22.0       1977   0.007122  ...        900.0           0        1   \n",
       "4        16.0       1972   0.282798  ...        900.0           0        6   \n",
       "\n",
       "   Shops_2          Price  Ecology_2_bin  Ecology_3_bin  Shops_2_bin  \\\n",
       "0        B  305018.871089              1              1            1   \n",
       "1        B  177734.553407              1              1            1   \n",
       "2        B  282078.720850              1              1            1   \n",
       "3        B  168106.007630              1              1            1   \n",
       "4        B  343995.102962              1              1            1   \n",
       "\n",
       "  QuantityHousesInTheDistrics  MedianSquareMeterPriceByDistrict  \n",
       "0                         851                       2707.753999  \n",
       "1                          78                       3728.145740  \n",
       "2                         652                       3157.363817  \n",
       "3                         652                       3157.363817  \n",
       "4                          89                       4171.321353  \n",
       "\n",
       "[5 rows x 25 columns]"
      ]
     },
     "execution_count": 177,
     "metadata": {},
     "output_type": "execute_result"
    }
   ],
   "source": [
    "train_df.head()"
   ]
  },
  {
   "cell_type": "code",
   "execution_count": 400,
   "id": "1a6b9fa3",
   "metadata": {
    "scrolled": true
   },
   "outputs": [
    {
     "data": {
      "text/html": [
       "<div>\n",
       "<style scoped>\n",
       "    .dataframe tbody tr th:only-of-type {\n",
       "        vertical-align: middle;\n",
       "    }\n",
       "\n",
       "    .dataframe tbody tr th {\n",
       "        vertical-align: top;\n",
       "    }\n",
       "\n",
       "    .dataframe thead th {\n",
       "        text-align: right;\n",
       "    }\n",
       "</style>\n",
       "<table border=\"1\" class=\"dataframe\">\n",
       "  <thead>\n",
       "    <tr style=\"text-align: right;\">\n",
       "      <th></th>\n",
       "      <th>Id</th>\n",
       "      <th>DistrictId</th>\n",
       "      <th>Rooms</th>\n",
       "      <th>Square</th>\n",
       "      <th>LifeSquare</th>\n",
       "      <th>KitchenSquare</th>\n",
       "      <th>Floor</th>\n",
       "      <th>HouseFloor</th>\n",
       "      <th>HouseYear</th>\n",
       "      <th>Ecology_1</th>\n",
       "      <th>...</th>\n",
       "      <th>Social_3</th>\n",
       "      <th>Healthcare_1</th>\n",
       "      <th>Helthcare_2</th>\n",
       "      <th>Shops_1</th>\n",
       "      <th>Shops_2</th>\n",
       "      <th>Ecology_2_bin</th>\n",
       "      <th>Ecology_3_bin</th>\n",
       "      <th>Shops_2_bin</th>\n",
       "      <th>QuantityHousesInTheDistrics</th>\n",
       "      <th>MedianSquareMeterPriceByDistrict</th>\n",
       "    </tr>\n",
       "  </thead>\n",
       "  <tbody>\n",
       "    <tr>\n",
       "      <th>0</th>\n",
       "      <td>4567</td>\n",
       "      <td>44</td>\n",
       "      <td>1.0</td>\n",
       "      <td>36.847630</td>\n",
       "      <td>19.094182</td>\n",
       "      <td>6.0</td>\n",
       "      <td>5</td>\n",
       "      <td>9.0</td>\n",
       "      <td>1970</td>\n",
       "      <td>0.036122</td>\n",
       "      <td>...</td>\n",
       "      <td>0</td>\n",
       "      <td>1036.0</td>\n",
       "      <td>1</td>\n",
       "      <td>1</td>\n",
       "      <td>B</td>\n",
       "      <td>1</td>\n",
       "      <td>1</td>\n",
       "      <td>1</td>\n",
       "      <td>46</td>\n",
       "      <td>4537.312198</td>\n",
       "    </tr>\n",
       "    <tr>\n",
       "      <th>1</th>\n",
       "      <td>5925</td>\n",
       "      <td>62</td>\n",
       "      <td>1.0</td>\n",
       "      <td>52.568133</td>\n",
       "      <td>42.568133</td>\n",
       "      <td>10.0</td>\n",
       "      <td>7</td>\n",
       "      <td>17.0</td>\n",
       "      <td>2017</td>\n",
       "      <td>0.072158</td>\n",
       "      <td>...</td>\n",
       "      <td>1</td>\n",
       "      <td>900.0</td>\n",
       "      <td>0</td>\n",
       "      <td>0</td>\n",
       "      <td>A</td>\n",
       "      <td>1</td>\n",
       "      <td>1</td>\n",
       "      <td>0</td>\n",
       "      <td>122</td>\n",
       "      <td>2750.999956</td>\n",
       "    </tr>\n",
       "    <tr>\n",
       "      <th>2</th>\n",
       "      <td>960</td>\n",
       "      <td>27</td>\n",
       "      <td>2.0</td>\n",
       "      <td>59.463678</td>\n",
       "      <td>32.781260</td>\n",
       "      <td>9.0</td>\n",
       "      <td>19</td>\n",
       "      <td>19.0</td>\n",
       "      <td>1977</td>\n",
       "      <td>0.211401</td>\n",
       "      <td>...</td>\n",
       "      <td>0</td>\n",
       "      <td>900.0</td>\n",
       "      <td>0</td>\n",
       "      <td>1</td>\n",
       "      <td>B</td>\n",
       "      <td>1</td>\n",
       "      <td>1</td>\n",
       "      <td>1</td>\n",
       "      <td>391</td>\n",
       "      <td>2707.753999</td>\n",
       "    </tr>\n",
       "    <tr>\n",
       "      <th>3</th>\n",
       "      <td>3848</td>\n",
       "      <td>23</td>\n",
       "      <td>3.0</td>\n",
       "      <td>49.646030</td>\n",
       "      <td>33.893825</td>\n",
       "      <td>6.0</td>\n",
       "      <td>2</td>\n",
       "      <td>2.0</td>\n",
       "      <td>1965</td>\n",
       "      <td>0.014073</td>\n",
       "      <td>...</td>\n",
       "      <td>0</td>\n",
       "      <td>900.0</td>\n",
       "      <td>0</td>\n",
       "      <td>0</td>\n",
       "      <td>B</td>\n",
       "      <td>1</td>\n",
       "      <td>1</td>\n",
       "      <td>1</td>\n",
       "      <td>264</td>\n",
       "      <td>2214.388732</td>\n",
       "    </tr>\n",
       "    <tr>\n",
       "      <th>4</th>\n",
       "      <td>746</td>\n",
       "      <td>74</td>\n",
       "      <td>1.0</td>\n",
       "      <td>53.837056</td>\n",
       "      <td>32.781260</td>\n",
       "      <td>6.0</td>\n",
       "      <td>8</td>\n",
       "      <td>17.0</td>\n",
       "      <td>1977</td>\n",
       "      <td>0.309479</td>\n",
       "      <td>...</td>\n",
       "      <td>4</td>\n",
       "      <td>990.0</td>\n",
       "      <td>0</td>\n",
       "      <td>6</td>\n",
       "      <td>B</td>\n",
       "      <td>1</td>\n",
       "      <td>1</td>\n",
       "      <td>1</td>\n",
       "      <td>61</td>\n",
       "      <td>3284.037344</td>\n",
       "    </tr>\n",
       "  </tbody>\n",
       "</table>\n",
       "<p>5 rows × 24 columns</p>\n",
       "</div>"
      ],
      "text/plain": [
       "     Id DistrictId  Rooms     Square  LifeSquare  KitchenSquare  Floor  \\\n",
       "0  4567         44    1.0  36.847630   19.094182            6.0      5   \n",
       "1  5925         62    1.0  52.568133   42.568133           10.0      7   \n",
       "2   960         27    2.0  59.463678   32.781260            9.0     19   \n",
       "3  3848         23    3.0  49.646030   33.893825            6.0      2   \n",
       "4   746         74    1.0  53.837056   32.781260            6.0      8   \n",
       "\n",
       "   HouseFloor  HouseYear  Ecology_1  ... Social_3 Healthcare_1  Helthcare_2  \\\n",
       "0         9.0       1970   0.036122  ...        0       1036.0            1   \n",
       "1        17.0       2017   0.072158  ...        1        900.0            0   \n",
       "2        19.0       1977   0.211401  ...        0        900.0            0   \n",
       "3         2.0       1965   0.014073  ...        0        900.0            0   \n",
       "4        17.0       1977   0.309479  ...        4        990.0            0   \n",
       "\n",
       "   Shops_1  Shops_2  Ecology_2_bin  Ecology_3_bin  Shops_2_bin  \\\n",
       "0        1        B              1              1            1   \n",
       "1        0        A              1              1            0   \n",
       "2        1        B              1              1            1   \n",
       "3        0        B              1              1            1   \n",
       "4        6        B              1              1            1   \n",
       "\n",
       "  QuantityHousesInTheDistrics  MedianSquareMeterPriceByDistrict  \n",
       "0                          46                       4537.312198  \n",
       "1                         122                       2750.999956  \n",
       "2                         391                       2707.753999  \n",
       "3                         264                       2214.388732  \n",
       "4                          61                       3284.037344  \n",
       "\n",
       "[5 rows x 24 columns]"
      ]
     },
     "execution_count": 400,
     "metadata": {},
     "output_type": "execute_result"
    }
   ],
   "source": [
    "test_df.head()"
   ]
  },
  {
   "cell_type": "markdown",
   "id": "ca225a9c",
   "metadata": {},
   "source": [
    "Обзор и анализ данных привел к корректировкам датасета, отраженным в методе \"correcting_data\" класса \"DataPipeLine\"."
   ]
  },
  {
   "cell_type": "markdown",
   "id": "42c256a0",
   "metadata": {},
   "source": [
    "## 7. Отбор признаков"
   ]
  },
  {
   "cell_type": "code",
   "execution_count": 164,
   "id": "b872b240",
   "metadata": {},
   "outputs": [],
   "source": [
    "feature_names = [\n",
    "     'Rooms',\n",
    "     'Square',\n",
    "     'LifeSquare',\n",
    "     'KitchenSquare',\n",
    "     'Floor',\n",
    "     'HouseFloor',\n",
    "     'HouseYear',\n",
    "     'Ecology_1',\n",
    "     'Social_1',\n",
    "     'Social_2',\n",
    "     'Social_3',\n",
    "     'Healthcare_1',\n",
    "     'Helthcare_2',\n",
    "     'Shops_1',\n",
    "     'Ecology_2_bin',\n",
    "     'Ecology_3_bin',\n",
    "     'Shops_2_bin',\n",
    "     'QuantityHousesInTheDistrics',\n",
    "     'MedianSquareMeterPriceByDistrict']\n",
    "\n",
    "target_name = 'Price'"
   ]
  },
  {
   "cell_type": "markdown",
   "id": "5ffb86ea",
   "metadata": {},
   "source": [
    "## 8. Разбиение датасета на тренировочный и валидационный"
   ]
  },
  {
   "cell_type": "code",
   "execution_count": 165,
   "id": "d5c5f5d8",
   "metadata": {},
   "outputs": [],
   "source": [
    "X = train_df[feature_names]\n",
    "y = train_df[target_name]"
   ]
  },
  {
   "cell_type": "code",
   "execution_count": 166,
   "id": "1b5599d3",
   "metadata": {},
   "outputs": [],
   "source": [
    "X_train, X_valid, y_train, y_valid = train_test_split(X, y, test_size = .33, random_state = 17)"
   ]
  },
  {
   "cell_type": "markdown",
   "id": "c307fe59",
   "metadata": {},
   "source": [
    "## 9. Стандартизация данных"
   ]
  },
  {
   "cell_type": "code",
   "execution_count": 167,
   "id": "ec35f84e",
   "metadata": {},
   "outputs": [],
   "source": [
    "scaler = StandardScaler()\n",
    "\n",
    "X_train_scaled = scaler.fit_transform(X_train)\n",
    "X_train_scaled = pd.DataFrame(X_train_scaled, columns=feature_names)\n",
    "\n",
    "X_valid_scaled = scaler.transform(X_valid)\n",
    "X_valid_scaled = pd.DataFrame(X_valid_scaled, columns=feature_names)"
   ]
  },
  {
   "cell_type": "code",
   "execution_count": 239,
   "id": "d4597ab8",
   "metadata": {},
   "outputs": [
    {
     "name": "stdout",
     "output_type": "stream",
     "text": [
      "<class 'pandas.core.frame.DataFrame'>\n",
      "RangeIndex: 6700 entries, 0 to 6699\n",
      "Data columns (total 19 columns):\n",
      " #   Column                            Non-Null Count  Dtype  \n",
      "---  ------                            --------------  -----  \n",
      " 0   Rooms                             6700 non-null   float64\n",
      " 1   Square                            6700 non-null   float64\n",
      " 2   LifeSquare                        6700 non-null   float64\n",
      " 3   KitchenSquare                     6700 non-null   float64\n",
      " 4   Floor                             6700 non-null   float64\n",
      " 5   HouseFloor                        6700 non-null   float64\n",
      " 6   HouseYear                         6700 non-null   float64\n",
      " 7   Ecology_1                         6700 non-null   float64\n",
      " 8   Social_1                          6700 non-null   float64\n",
      " 9   Social_2                          6700 non-null   float64\n",
      " 10  Social_3                          6700 non-null   float64\n",
      " 11  Healthcare_1                      6700 non-null   float64\n",
      " 12  Helthcare_2                       6700 non-null   float64\n",
      " 13  Shops_1                           6700 non-null   float64\n",
      " 14  Ecology_2_bin                     6700 non-null   float64\n",
      " 15  Ecology_3_bin                     6700 non-null   float64\n",
      " 16  Shops_2_bin                       6700 non-null   float64\n",
      " 17  QuantityHousesInTheDistrics       6700 non-null   float64\n",
      " 18  MedianSquareMeterPriceByDistrict  6700 non-null   float64\n",
      "dtypes: float64(19)\n",
      "memory usage: 994.7 KB\n"
     ]
    }
   ],
   "source": []
  },
  {
   "cell_type": "markdown",
   "id": "5b6768c3",
   "metadata": {},
   "source": [
    "## 10. Построение и выбор модели"
   ]
  },
  {
   "cell_type": "code",
   "execution_count": 168,
   "id": "602bd2f1",
   "metadata": {
    "scrolled": true
   },
   "outputs": [
    {
     "data": {
      "text/html": [
       "<div>\n",
       "<style scoped>\n",
       "    .dataframe tbody tr th:only-of-type {\n",
       "        vertical-align: middle;\n",
       "    }\n",
       "\n",
       "    .dataframe tbody tr th {\n",
       "        vertical-align: top;\n",
       "    }\n",
       "\n",
       "    .dataframe thead th {\n",
       "        text-align: right;\n",
       "    }\n",
       "</style>\n",
       "<table border=\"1\" class=\"dataframe\">\n",
       "  <thead>\n",
       "    <tr style=\"text-align: right;\">\n",
       "      <th></th>\n",
       "      <th>R2 of Y_train</th>\n",
       "      <th>R2 of Y_valid</th>\n",
       "    </tr>\n",
       "    <tr>\n",
       "      <th>ModelName</th>\n",
       "      <th></th>\n",
       "      <th></th>\n",
       "    </tr>\n",
       "  </thead>\n",
       "  <tbody>\n",
       "    <tr>\n",
       "      <th>LinearRegression</th>\n",
       "      <td>0.638594</td>\n",
       "      <td>0.671526</td>\n",
       "    </tr>\n",
       "    <tr>\n",
       "      <th>RandomForestRegressor</th>\n",
       "      <td>0.784523</td>\n",
       "      <td>0.750779</td>\n",
       "    </tr>\n",
       "    <tr>\n",
       "      <th>KNeighborsRegressor</th>\n",
       "      <td>0.768879</td>\n",
       "      <td>0.683644</td>\n",
       "    </tr>\n",
       "    <tr>\n",
       "      <th>SVR</th>\n",
       "      <td>0.615884</td>\n",
       "      <td>0.673556</td>\n",
       "    </tr>\n",
       "  </tbody>\n",
       "</table>\n",
       "</div>"
      ],
      "text/plain": [
       "                       R2 of Y_train  R2 of Y_valid\n",
       "ModelName                                          \n",
       "LinearRegression            0.638594       0.671526\n",
       "RandomForestRegressor       0.784523       0.750779\n",
       "KNeighborsRegressor         0.768879       0.683644\n",
       "SVR                         0.615884       0.673556"
      ]
     },
     "execution_count": 168,
     "metadata": {},
     "output_type": "execute_result"
    }
   ],
   "source": [
    "# создаем словарь, в котором ключи - это названия моделей, а значениями являются непосредственно сами модели\n",
    "models = {\n",
    "    'LinearRegression': LinearRegression(),\n",
    "    'RandomForestRegressor': RandomForestRegressor(max_depth=15, min_samples_split=100, n_estimators=300, n_jobs=-1, random_state=17),\n",
    "    'KNeighborsRegressor': KNeighborsRegressor(n_neighbors=6),\n",
    "    'SVR': SVR(C=100, kernel='linear')    \n",
    "    }\n",
    "\n",
    "# словарь для записи имени модели, а также выбранной метрики качества, для последующего их включения в датафрейм\n",
    "models_results = {}\n",
    "\n",
    "# пустой датафрейм для записи результатов каждой модели\n",
    "ModelsResults = pd.DataFrame()\n",
    "\n",
    "# цикл, в котором для каждой модели, взятой из словаря \"models\"\n",
    "for name in models:\n",
    "    model = models[name]\n",
    "    \n",
    "    # выполняем обучние на тестовых данных\n",
    "    model.fit(X_train_scaled, y_train)\n",
    "    \n",
    "    # записываем результат (R2_score) предсказания на тестовых и валидационных данных в подготовленный словарь\n",
    "    models_results['ModelName'] = [name]\n",
    "    models_results['R2 of Y_train'] = [r2(y_train, model.predict(X_train_scaled))]\n",
    "    models_results['R2 of Y_valid'] = [r2(y_valid, model.predict(X_valid_scaled))]\n",
    "    \n",
    "    # добавляем полученный словарь в датасет\n",
    "    ModelsResults = pd.concat([\n",
    "        ModelsResults,\n",
    "        pd.DataFrame(models_results)])\n",
    "\n",
    "# меняем индекс датафрейма на имя моделей\n",
    "ModelsResults.set_index('ModelName', inplace=True)\n",
    "\n",
    "ModelsResults"
   ]
  },
  {
   "cell_type": "markdown",
   "id": "0bddfaad",
   "metadata": {},
   "source": [
    "Как видно, лучший результат показывает \"RandomForestRegressor\", тем не менее как результаты этой модели, так и других."
   ]
  },
  {
   "cell_type": "markdown",
   "id": "56dba7ff",
   "metadata": {},
   "source": [
    "### 10.1 Улучшение модели линейной регрессии"
   ]
  },
  {
   "cell_type": "markdown",
   "id": "956b60bb",
   "metadata": {},
   "source": [
    "Попробуем оценить, какие веса каких признаков имеют самое наименьшее значение, а затем отбосить их и переобучить модель на новых данных"
   ]
  },
  {
   "cell_type": "code",
   "execution_count": 88,
   "id": "8d3f34ae",
   "metadata": {
    "scrolled": false
   },
   "outputs": [
    {
     "data": {
      "image/png": "[encoded data removed]",
      "text/plain": [
       "<Figure size 432x288 with 1 Axes>"
      ]
     },
     "metadata": {
      "needs_background": "light"
     },
     "output_type": "display_data"
    }
   ],
   "source": [
    "# coef = pd.Series(\n",
    "#     models['LinearRegression'].coef_.flatten(),\n",
    "#     index=X_train_scaled.columns)\n",
    "\n",
    "# coef = coef.sort_values()\n",
    "# coef.plot(kind='barh')\n",
    "\n",
    "# plt.xlabel('Вес признака')\n",
    "# plt.ylabel('Признак')\n",
    "\n",
    "# plt.show()"
   ]
  },
  {
   "cell_type": "markdown",
   "id": "907d5486",
   "metadata": {},
   "source": [
    "Как видно, наименьшие веса имеют параметры \"Shops_1\", \"Healthcare_1\", \"Social_3\", \"Shops_2_bin\".\n",
    "Попробуем отбросить их и переобучить модель заново."
   ]
  },
  {
   "cell_type": "code",
   "execution_count": 94,
   "id": "b7676d11",
   "metadata": {},
   "outputs": [],
   "source": [
    "# lr = LinearRegression()\n",
    "# lr.fit(X_train_scaled.drop(columns=[\"Shops_1\", \"Healthcare_1\", \"Social_3\", \"Shops_2_bin\"]), y_train)\n",
    "\n",
    "# y_train_pred = lr.predict(X_train_scaled.drop(columns=[\"Shops_1\", \"Healthcare_1\", \"Social_3\", \"Shops_2_bin\"]))\n",
    "# y_valid_pred = lr.predict(X_valid_scaled.drop(columns=[\"Shops_1\", \"Healthcare_1\", \"Social_3\", \"Shops_2_bin\"]))"
   ]
  },
  {
   "cell_type": "code",
   "execution_count": 97,
   "id": "3810ac4d",
   "metadata": {
    "scrolled": false
   },
   "outputs": [
    {
     "name": "stdout",
     "output_type": "stream",
     "text": [
      "For train data 0.6384852652620816\n",
      "For valid data 0.6718346951240662\n"
     ]
    }
   ],
   "source": [
    "# print(f'For train data {r2(y_train, y_train_pred)}')\n",
    "# print(f'For valid data {r2(y_valid, y_valid_pred)}')\n"
   ]
  },
  {
   "cell_type": "markdown",
   "id": "79599c42",
   "metadata": {},
   "source": [
    "Исключение малозначимых параметров какой-либо значимый эффект на качество предсказания линейной модели не оказало."
   ]
  },
  {
   "cell_type": "markdown",
   "id": "1b22d0ee",
   "metadata": {},
   "source": [
    "### 10.2 Подбор параметров для улучшения качества предсказания модели \"случайный лес\" "
   ]
  },
  {
   "cell_type": "markdown",
   "id": "30d9f13f",
   "metadata": {},
   "source": [
    "Путем перебора во вложенных циклах параметров \"n_estimators_list\" и \"max_depth_list\" попробуем найти их сочетание, дающее качество выше полученного на шаге 10"
   ]
  },
  {
   "cell_type": "code",
   "execution_count": 118,
   "id": "8cfa323c",
   "metadata": {},
   "outputs": [],
   "source": [
    "# n_estimators_list = [i for i in range(100, 1050, 50)]\n",
    "# max_depth_list = [i for i in range(3, 16)]\n",
    "\n",
    "# r2_list_train = []\n",
    "# r2_list_valid = []\n",
    "\n",
    "\n",
    "# max_r2_train = 0\n",
    "# max_r2_train_index = 0\n",
    "# max_r2_valid = 0\n",
    "# max_r2_valid_index = 0\n",
    "# params_1 = []\n",
    "# params_2 = []\n",
    "\n",
    "# index = 0\n"
   ]
  },
  {
   "cell_type": "code",
   "execution_count": 119,
   "id": "31f53471",
   "metadata": {},
   "outputs": [],
   "source": [
    "# for n_estimators in n_estimators_list:\n",
    "    \n",
    "#     for max_depth in max_depth_list:\n",
    "#         RFR = RandomForestRegressor(max_depth=max_depth, n_estimators=n_estimators, min_samples_split=100, n_jobs=-1, random_state=17)\n",
    "#         RFR.fit(X_train_scaled, y_train)\n",
    "        \n",
    "#         y_train_pred = RFR.predict(X_train_scaled)\n",
    "#         y_valid_pred = RFR.predict(X_valid_scaled)\n",
    "        \n",
    "#         r2_train = r2(y_train, y_train_pred)\n",
    "#         r2_valid = r2(y_valid, y_valid_pred)\n",
    "        \n",
    "#         r2_list_train.append(r2_train)\n",
    "#         r2_list_valid.append(r2_valid)\n",
    "        \n",
    "#         if r2_train > max_r2_train:\n",
    "#             max_r2_train = r2_train \n",
    "#             max_r2_train_index = index\n",
    "#             params_1 = [n_estimators, max_depth]\n",
    "        \n",
    "#         if r2_valid > max_r2_valid:\n",
    "#             max_r2_valid = r2_valid \n",
    "#             max_r2_valid_index = index\n",
    "#             params_2 = [n_estimators, max_depth]\n",
    "        \n",
    "#         index += 1\n",
    "        "
   ]
  },
  {
   "cell_type": "code",
   "execution_count": 120,
   "id": "876bfacc",
   "metadata": {
    "scrolled": true
   },
   "outputs": [
    {
     "name": "stdout",
     "output_type": "stream",
     "text": [
      "max_r2_train  0.7845819814527215\n",
      "max_r2_train_index  25\n",
      "max_r2_valid  0.7507788505653664\n",
      "max_r2_valid_index  64\n",
      "params_1  [150, 15]\n",
      "params_2  [300, 15]\n"
     ]
    }
   ],
   "source": [
    "# print('max_r2_train ', max_r2_train)\n",
    "# print('max_r2_train_index ', max_r2_train_index)\n",
    "# print('max_r2_valid ', max_r2_valid)\n",
    "# print('max_r2_valid_index ', max_r2_valid_index)\n",
    "\n",
    "# print('params_1 ', params_1)\n",
    "# print('params_2 ', params_2)"
   ]
  },
  {
   "cell_type": "code",
   "execution_count": 123,
   "id": "bb609c80",
   "metadata": {},
   "outputs": [
    {
     "name": "stdout",
     "output_type": "stream",
     "text": [
      "0.7507141985841228\n",
      "0.7845230966603722\n"
     ]
    }
   ],
   "source": [
    "# print(r2_list_valid[25])\n",
    "# print(r2_list_train[64])"
   ]
  },
  {
   "cell_type": "markdown",
   "id": "7450fad9",
   "metadata": {},
   "source": [
    "При параметрах n_estimators=300, max_depth=15 удалось незначительно улучшить качество на валидационных данных."
   ]
  },
  {
   "cell_type": "markdown",
   "id": "2ef8b820",
   "metadata": {},
   "source": [
    "### 10.3 Подбор параметров для улучшения качества предсказания модели \"SVR\""
   ]
  },
  {
   "cell_type": "code",
   "execution_count": 135,
   "id": "999d7446",
   "metadata": {
    "scrolled": true
   },
   "outputs": [],
   "source": [
    "# kernel_list = ['linear', 'rbf']\n",
    "# C_list = np.logspace(-2, 3, 10)\n",
    "\n",
    "# SVR_results = {}\n",
    "# ResultsSVR = pd.DataFrame()\n",
    "\n",
    "# for kernel in kernel_list:\n",
    "    \n",
    "#     for C in C_list: \n",
    "\n",
    "#         model_SVR = SVR(C=C, kernel=kernel)\n",
    "#         model_SVR.fit(X_train_scaled, y_train)\n",
    "\n",
    "#         y_train_pred = model_SVR.predict(X_train_scaled)\n",
    "#         y_valid_pred = model_SVR.predict(X_valid_scaled)\n",
    "\n",
    "#         SVR_results['kernel'] = [kernel]\n",
    "#         SVR_results['r2_train'] = [r2(y_train, y_train_pred)]\n",
    "#         SVR_results['r2_valid'] = [r2(y_valid, y_valid_pred)]\n",
    "#         SVR_results['C'] = [C]\n",
    "\n",
    "#         ResultsSVR = pd.concat([\n",
    "#             ResultsSVR,\n",
    "#             pd.DataFrame(SVR_results)])\n"
   ]
  },
  {
   "cell_type": "code",
   "execution_count": 141,
   "id": "e2eca241",
   "metadata": {},
   "outputs": [
    {
     "data": {
      "image/png": "[encoded data removed]",
      "text/plain": [
       "<Figure size 432x288 with 1 Axes>"
      ]
     },
     "metadata": {
      "needs_background": "light"
     },
     "output_type": "display_data"
    }
   ],
   "source": [
    "# plt.plot(\n",
    "#     ResultsSVR.loc[ResultsSVR['kernel'] == 'linear', 'C'],\n",
    "#     ResultsSVR.loc[ResultsSVR['kernel'] == 'linear', 'r2_train'],\n",
    "#     label='linear_r2_train')\n",
    "\n",
    "# plt.plot(\n",
    "#     ResultsSVR.loc[ResultsSVR['kernel'] == 'linear', 'C'],\n",
    "#     ResultsSVR.loc[ResultsSVR['kernel'] == 'linear', 'r2_valid'],\n",
    "#     label='linear_r2_valid')\n",
    "\n",
    "# plt.plot(\n",
    "#     ResultsSVR.loc[ResultsSVR['kernel'] == 'rbf', 'C'],\n",
    "#     ResultsSVR.loc[ResultsSVR['kernel'] == 'rbf', 'r2_train'],\n",
    "#     label='rbf_r2_train')\n",
    "\n",
    "# plt.plot(\n",
    "#     ResultsSVR.loc[ResultsSVR['kernel'] == 'rbf', 'C'],\n",
    "#     ResultsSVR.loc[ResultsSVR['kernel'] == 'rbf', 'r2_valid'],\n",
    "#     label='rbf_r2_valid')\n",
    "\n",
    "# plt.xlabel('Параметр С')\n",
    "# plt.ylabel('R2')\n",
    "\n",
    "# plt.legend()\n",
    "# plt.grid()\n",
    "\n",
    "# plt.show()"
   ]
  },
  {
   "cell_type": "markdown",
   "id": "7b6fcf27",
   "metadata": {},
   "source": [
    "Согласно графика, лучший результат показывает линейный тип функции ядра при значении параметра наказания С=100"
   ]
  },
  {
   "cell_type": "markdown",
   "id": "a7c56f83",
   "metadata": {},
   "source": [
    "### 10.3 Подбор параметров для улучшения качества предсказания модели \"KNN\""
   ]
  },
  {
   "cell_type": "code",
   "execution_count": 146,
   "id": "cbb9966e",
   "metadata": {
    "scrolled": true
   },
   "outputs": [],
   "source": [
    "# n_neighbors_values = np.arange(2, 20)\n",
    "\n",
    "# r2_train_list = []\n",
    "# r2_valid_list = []\n",
    "\n",
    "                        \n",
    "# for i in n_neighbors_values:\n",
    "#     KNR_model = KNeighborsRegressor(n_neighbors=i)\n",
    "    \n",
    "#     KNR_model.fit(X_train_scaled, y_train)\n",
    "\n",
    "#     y_train_pred = KNR_model.predict(X_train_scaled)\n",
    "#     y_valid_pred = KNR_model.predict(X_valid_scaled)\n",
    "\n",
    "#     r2_train_list.append(r2(y_train, y_train_pred))\n",
    "#     r2_valid_list.append(r2(y_valid, y_valid_pred))\n"
   ]
  },
  {
   "cell_type": "code",
   "execution_count": 147,
   "id": "a63426d7",
   "metadata": {
    "scrolled": false
   },
   "outputs": [
    {
     "data": {
      "image/png": "[encoded data removed]",
      "text/plain": [
       "<Figure size 432x288 with 1 Axes>"
      ]
     },
     "metadata": {
      "needs_background": "light"
     },
     "output_type": "display_data"
    }
   ],
   "source": [
    "# plt.plot(n_neighbors_values, r2_train_list, label='r2_train')\n",
    "\n",
    "# plt.plot(n_neighbors_values, r2_valid_list, label='r2_valid')\n",
    "\n",
    "\n",
    "# plt.xlabel('Параметр n_neighbors')\n",
    "# plt.ylabel('R2')\n",
    "\n",
    "# plt.legend()\n",
    "# plt.grid()\n",
    "\n",
    "# plt.show()"
   ]
  },
  {
   "cell_type": "markdown",
   "id": "d566f845",
   "metadata": {},
   "source": [
    "График демонстрирует, что изначально выбранное значение n_neighbors=6 является оптимальным."
   ]
  },
  {
   "cell_type": "markdown",
   "id": "813b9ec8",
   "metadata": {},
   "source": [
    "## 11 Формирование прогноза и файла с прогнозом"
   ]
  },
  {
   "cell_type": "markdown",
   "id": "35cc1fa2",
   "metadata": {},
   "source": [
    "Лучший результат на этих данных дает модель \"RandomForestRegressor\", поэтому применим его для прогноза на тестовых данных."
   ]
  },
  {
   "cell_type": "code",
   "execution_count": 257,
   "id": "3c6915ff",
   "metadata": {},
   "outputs": [],
   "source": [
    "test_df = pd.read_csv(TEST_DATASET_PATH)\n",
    "predictions_df = pd.DataFrame()\n",
    "predictions_df['Id'] = test_df['Id']"
   ]
  },
  {
   "cell_type": "code",
   "execution_count": 258,
   "id": "2a211e93",
   "metadata": {},
   "outputs": [],
   "source": [
    "test_df = corrected_dataframe.correcting_data(test_df)"
   ]
  },
  {
   "cell_type": "code",
   "execution_count": 259,
   "id": "270b3560",
   "metadata": {},
   "outputs": [],
   "source": [
    " test_df.loc[test_df['MedianSquareMeterPriceByDistrict'].isnull(), 'MedianSquareMeterPriceByDistrict'] = test_df['MedianSquareMeterPriceByDistrict'].mean()"
   ]
  },
  {
   "cell_type": "code",
   "execution_count": 260,
   "id": "c4574749",
   "metadata": {},
   "outputs": [
    {
     "name": "stdout",
     "output_type": "stream",
     "text": [
      "<class 'pandas.core.frame.DataFrame'>\n",
      "Int64Index: 5000 entries, 0 to 4999\n",
      "Data columns (total 24 columns):\n",
      " #   Column                            Non-Null Count  Dtype  \n",
      "---  ------                            --------------  -----  \n",
      " 0   Id                                5000 non-null   object \n",
      " 1   DistrictId                        5000 non-null   object \n",
      " 2   Rooms                             5000 non-null   float64\n",
      " 3   Square                            5000 non-null   float64\n",
      " 4   LifeSquare                        5000 non-null   float64\n",
      " 5   KitchenSquare                     5000 non-null   float64\n",
      " 6   Floor                             5000 non-null   int64  \n",
      " 7   HouseFloor                        5000 non-null   float64\n",
      " 8   HouseYear                         5000 non-null   int64  \n",
      " 9   Ecology_1                         5000 non-null   float64\n",
      " 10  Ecology_2                         5000 non-null   object \n",
      " 11  Ecology_3                         5000 non-null   object \n",
      " 12  Social_1                          5000 non-null   int64  \n",
      " 13  Social_2                          5000 non-null   int64  \n",
      " 14  Social_3                          5000 non-null   int64  \n",
      " 15  Healthcare_1                      5000 non-null   float64\n",
      " 16  Helthcare_2                       5000 non-null   int64  \n",
      " 17  Shops_1                           5000 non-null   int64  \n",
      " 18  Shops_2                           5000 non-null   object \n",
      " 19  Ecology_2_bin                     5000 non-null   int64  \n",
      " 20  Ecology_3_bin                     5000 non-null   int64  \n",
      " 21  Shops_2_bin                       5000 non-null   int64  \n",
      " 22  QuantityHousesInTheDistrics       5000 non-null   int64  \n",
      " 23  MedianSquareMeterPriceByDistrict  5000 non-null   float64\n",
      "dtypes: float64(8), int64(11), object(5)\n",
      "memory usage: 976.6+ KB\n"
     ]
    }
   ],
   "source": [
    "test_df.info()"
   ]
  },
  {
   "cell_type": "code",
   "execution_count": 262,
   "id": "efdf379a",
   "metadata": {
    "scrolled": true
   },
   "outputs": [],
   "source": [
    "test_df = test_df[feature_names]"
   ]
  },
  {
   "cell_type": "code",
   "execution_count": 263,
   "id": "88509b38",
   "metadata": {},
   "outputs": [],
   "source": [
    "X_test_scaled = scaler.transform(test_df)\n",
    "X_test_scaled = pd.DataFrame(X_test_scaled, columns=feature_names)"
   ]
  },
  {
   "cell_type": "code",
   "execution_count": 264,
   "id": "07a38ae7",
   "metadata": {
    "scrolled": true
   },
   "outputs": [],
   "source": [
    "predictions = models['RandomForestRegressor'].predict(X_test_scaled)"
   ]
  },
  {
   "cell_type": "code",
   "execution_count": 266,
   "id": "9c4895a4",
   "metadata": {},
   "outputs": [
    {
     "data": {
      "text/html": [
       "<div>\n",
       "<style scoped>\n",
       "    .dataframe tbody tr th:only-of-type {\n",
       "        vertical-align: middle;\n",
       "    }\n",
       "\n",
       "    .dataframe tbody tr th {\n",
       "        vertical-align: top;\n",
       "    }\n",
       "\n",
       "    .dataframe thead th {\n",
       "        text-align: right;\n",
       "    }\n",
       "</style>\n",
       "<table border=\"1\" class=\"dataframe\">\n",
       "  <thead>\n",
       "    <tr style=\"text-align: right;\">\n",
       "      <th></th>\n",
       "      <th>Id</th>\n",
       "      <th>price</th>\n",
       "    </tr>\n",
       "  </thead>\n",
       "  <tbody>\n",
       "    <tr>\n",
       "      <th>0</th>\n",
       "      <td>4567</td>\n",
       "      <td>172901.254847</td>\n",
       "    </tr>\n",
       "    <tr>\n",
       "      <th>1</th>\n",
       "      <td>5925</td>\n",
       "      <td>131042.556348</td>\n",
       "    </tr>\n",
       "    <tr>\n",
       "      <th>2</th>\n",
       "      <td>960</td>\n",
       "      <td>153641.072765</td>\n",
       "    </tr>\n",
       "    <tr>\n",
       "      <th>3</th>\n",
       "      <td>3848</td>\n",
       "      <td>145314.734580</td>\n",
       "    </tr>\n",
       "    <tr>\n",
       "      <th>4</th>\n",
       "      <td>746</td>\n",
       "      <td>167271.352488</td>\n",
       "    </tr>\n",
       "  </tbody>\n",
       "</table>\n",
       "</div>"
      ],
      "text/plain": [
       "     Id          price\n",
       "0  4567  172901.254847\n",
       "1  5925  131042.556348\n",
       "2   960  153641.072765\n",
       "3  3848  145314.734580\n",
       "4   746  167271.352488"
      ]
     },
     "execution_count": 266,
     "metadata": {},
     "output_type": "execute_result"
    }
   ],
   "source": [
    "predictions_df['price'] = predictions\n",
    "predictions_df.head()"
   ]
  },
  {
   "cell_type": "code",
   "execution_count": 268,
   "id": "4c9189bf",
   "metadata": {},
   "outputs": [],
   "source": [
    "predictions_df.to_csv(PREDICTION_PATH, index=False)"
   ]
  },
  {
   "cell_type": "code",
   "execution_count": null,
   "id": "8d8eb767",
   "metadata": {},
   "outputs": [],
   "source": []
  }
 ],
 "metadata": {
  "kernelspec": {
   "display_name": "Python 3 (ipykernel)",
   "language": "python",
   "name": "python3"
  },
  "language_info": {
   "codemirror_mode": {
    "name": "ipython",
    "version": 3
   },
   "file_extension": ".py",
   "mimetype": "text/x-python",
   "name": "python",
   "nbconvert_exporter": "python",
   "pygments_lexer": "ipython3",
   "version": "3.9.12"
  }
 },
 "nbformat": 4,
 "nbformat_minor": 5
}
